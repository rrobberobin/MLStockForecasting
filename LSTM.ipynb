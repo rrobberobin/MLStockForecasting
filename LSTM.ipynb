{
 "cells": [
  {
   "cell_type": "code",
   "execution_count": 3,
   "metadata": {},
   "outputs": [],
   "source": [
    "import os\n",
    "import pandas as pd\n",
    "import numpy as np\n",
    "import math\n",
    "\n",
    "import tensorflow as tf\n",
    "import keras_tuner as kt\n",
    "\n",
    "# from tensorflow.python.keras.models import Sequential\n",
    "# from tensorflow.python.keras.layers import Activation, Dense, Flatten\n",
    "# import tensorflow.python.keras.optimizers\n",
    "# import tensorflow.python.keras.metrics\n",
    "\n",
    "from tensorflow.keras.models import Sequential\n",
    "from tensorflow.keras.layers import Activation, Dense, Flatten\n",
    "import tensorflow.keras.optimizers\n",
    "import tensorflow.keras.metrics\n",
    "\n",
    "#%%capture\n",
    "data_file_path = os.path.join(os.getcwd(), \"Data\\\\returnsData.csv\")\n",
    "returnsData = pd.read_csv(data_file_path)\n",
    "#returnsData.info(verbose=True)\n",
    "longReturns = returnsData[[\"YearQuarter\", \"gvkey\", \"quarterlyReturns\"]] #\"quarterlyVolatility\",\n",
    "#longReturns.info(verbose=True)\n",
    "wideReturns = pd.pivot(longReturns, index=\"YearQuarter\", columns=\"gvkey\", values=\"quarterlyReturns\")\n",
    "#wideReturns.info(verbose=True)\n",
    "#print(wideReturns.iloc[0:10,0:10])\n",
    "\n",
    "\n",
    "class PreprocessData:\n",
    "\n",
    "  def __init__(self, sample_length=2):\n",
    "\n",
    "    dataset = tf.keras.preprocessing.timeseries_dataset_from_array(\n",
    "        data=wideReturns, targets=None,\n",
    "        sequence_length=sample_length, sequence_stride=1, sampling_rate=1,\n",
    "        batch_size=128,  shuffle=False, \n",
    "        start_index=None, end_index=None)\n",
    "\n",
    "    for batch in dataset:\n",
    "      data = batch\n",
    "      print(data.shape)\n",
    "      break\n",
    "\n",
    "    trainSize = math.floor(data.shape[0] * 0.5)\n",
    "    validationSize = math.floor(data.shape[0] * 0.75)\n",
    "    testSize = data.shape[0]\n",
    "\n",
    "    train = data[:trainSize, :, :]\n",
    "    validation = data[trainSize:validationSize, :, :]\n",
    "    test = data[validationSize:, :, :]\n",
    "\n",
    "    def reshapeData(rawData):\n",
    "      #[lags of YearQuarter, YearQuarter, gvkey] => [Batch, YearQuarter, None]\n",
    "      reshapedData = np.transpose(a=rawData, axes=(2, 0, 1))\n",
    "      reshapedData = np.reshape(reshapedData, (-1, rawData.shape[1]))\n",
    "      reshapedData = reshapedData[~np.isnan(reshapedData).any(axis=1),:]\n",
    "      reshapedData = np.expand_dims(reshapedData, axis=2)\n",
    "      #np.asarray(reshapedData).astype('float32')\n",
    "      return reshapedData\n",
    "\n",
    "    train = reshapeData(train)\n",
    "    validation = reshapeData(validation)\n",
    "    test = reshapeData(test)\n",
    "\n",
    "    xTrain, yTrain = train[:, :-1, :], train[:, -1, :]\n",
    "    xVal, yVal = validation[:, :-1, :], validation[:, -1, :]\n",
    "    xTest, yTest = test[:, :-1, :], test[:, -1, :]\n",
    "\n",
    "    # train = tf.keras.preprocessing.timeseries_dataset_from_array(\n",
    "    #     data=xTrainReshaped, targets=yTrainReshaped,\n",
    "    #     sequence_length=sample_length, sequence_stride=1, sampling_rate=1,\n",
    "    #     batch_size=batch_size,  shuffle=False)\n",
    "    # validation = tf.keras.preprocessing.timeseries_dataset_from_array(\n",
    "    #     data=xValReshaped, targets=yValReshaped,\n",
    "    #     sequence_length=sample_length, sequence_stride=1, sampling_rate=1,\n",
    "    #     batch_size=batch_size,  shuffle=False)\n",
    "    # test = tf.keras.preprocessing.timeseries_dataset_from_array(\n",
    "    #     data=xTestReshaped, targets=yTestReshaped,\n",
    "    #     sequence_length=sample_length, sequence_stride=1, sampling_rate=1,\n",
    "    #     batch_size=batch_size,  shuffle=False)\n",
    "\n",
    "\n",
    "    normlayer = tf.keras.layers.Normalization(axis=None)\n",
    "    normlayer.adapt(xTrain[:, 0, :]) #Calculates some returns multiple times\n",
    "    self.xTrain, self.yTrain, self.xVal, self.yVal, self.xTest, self.yTest, self.normlayer = xTrain, yTrain, xVal, yVal, xTest, yTest, normlayer\n",
    "    #return xTrain, yTrain, xVal, yVal, xTest, yTest, normlayer\n",
    "\n",
    "#normlayer.adapt(xTrain[:,0,:])\n",
    "#normlayer.adapt(xTrain[:,[0, -1],:])\n",
    "# normlayer.adapt(wideReturns[trainSize, :])\n"
   ]
  },
  {
   "cell_type": "code",
   "execution_count": 4,
   "metadata": {},
   "outputs": [],
   "source": [
    "# model = Sequential()\n",
    "# model.add(normlayer)\n",
    "# model.add(tf.keras.layers.LSTM(units=5)) #, input_shape=(,sample_length-1)   #mask\n",
    "# model.add(Dense(units=1))\n",
    "\n",
    "# model.compile(optimizer=\"adam\", #tf.keras.optimizers.Adam(learning_rate=0.001)\n",
    "#               loss=\"MeanAbsoluteError\",\n",
    "#               metrics=[tf.keras.losses.MeanSquaredError(), tf.keras.losses.MeanAbsoluteError()])\n",
    "\n",
    "# #model.fit(x=dataset, batch_size=8)#, validation_data=(xVal, yVal))\n",
    "# model.fit(x=xTrain, y=yTrain, batch_size=32, validation_data=(xVal, yVal))"
   ]
  },
  {
   "cell_type": "code",
   "execution_count": 5,
   "metadata": {},
   "outputs": [
    {
     "name": "stdout",
     "output_type": "stream",
     "text": [
      "(30, 24, 9668)\n"
     ]
    }
   ],
   "source": [
    "processedData = PreprocessData(24)\n",
    "xTrain, yTrain = processedData.xTrain, processedData.yTrain\n",
    "xVal, yVal= processedData.xVal, processedData.yVal\n",
    "xTest, yTest = processedData.xTest, processedData.yTest\n",
    "#normlayer = processedData.normlayer\n",
    "\n",
    "normlayer = tf.keras.layers.Normalization(axis=None)\n",
    "normlayer.adapt(xTrain)\n",
    "xTrain = normlayer(xTrain)\n",
    "xVal = normlayer(xVal)\n",
    "xTest = normlayer(xTest)\n",
    "#xTest = np.asarray(xTest).astype('float32')\n",
    "\n",
    "#yTrain = normlayer(yTrain)\n",
    "#yVal = normlayer(yVal)\n",
    "#yTest = normlayer(yTest)\n"
   ]
  },
  {
   "cell_type": "code",
   "execution_count": 6,
   "metadata": {},
   "outputs": [
    {
     "data": {
      "text/plain": [
       "[]"
      ]
     },
     "execution_count": 6,
     "metadata": {},
     "output_type": "execute_result"
    }
   ],
   "source": [
    "2**np.linspace(start=0, stop=5, num=6)\n",
    "#np.geomspace(start=1, stop=100, num=10)\n",
    "(2**np.arange(4, 10)).tolist()\n",
    "(2**np.arange(10)).tolist()\n",
    "\n",
    "(10**np.arange(5, -5)).tolist()\n",
    "\n",
    "# for n in range(0,1):\n",
    "#     print(\"hey\")"
   ]
  },
  {
   "cell_type": "code",
   "execution_count": 11,
   "metadata": {},
   "outputs": [
    {
     "name": "stdout",
     "output_type": "stream",
     "text": [
      "Trial 10 Complete [00h 01m 20s]\n",
      "val_mean_squared_error: 15045.10546875\n",
      "\n",
      "Best val_mean_squared_error So Far: 14951.525390625\n",
      "Total elapsed time: 00h 11m 08s\n",
      "INFO:tensorflow:Oracle triggered exit\n"
     ]
    },
    {
     "data": {
      "text/plain": [
       "{'Model_type': 'GRU',\n",
       " 'units': 32,\n",
       " 'general_dropout': 0.6163006673756249,\n",
       " 'L1': 0.5959176005066202,\n",
       " 'L2': 5.1559156967928116e-05,\n",
       " 'optimizer': 'Adam',\n",
       " 'batch_size': 512}"
      ]
     },
     "execution_count": 11,
     "metadata": {},
     "output_type": "execute_result"
    }
   ],
   "source": [
    "\n",
    "class MyHyperModel(kt.HyperModel):\n",
    "    def build(self, hp):\n",
    "        model = Sequential()\n",
    "        #model.add(normlayer)\n",
    "        #model.add(tf.keras.layers.BatchNormalization())\n",
    "\n",
    "        # if modelType == \"LSTM\":\n",
    "        #     model.add(tf.keras.layers.LSTM(units=units))\n",
    "        # elif modelType == \"GRU\":\n",
    "        #     model.add(tf.keras.layers.GRU(units=units))\n",
    "        # elif modelType == \"SimpleRNN\":\n",
    "        #     model.add(tf.keras.layers.SimpleRNN(units=units))\n",
    "        \n",
    "        #RNN_layers = hp.Int(\"RNN_layers\", min_value=0, max_value=3)\n",
    "        #for n in range(0, RNN_layers):\n",
    "\n",
    "        RNN_type = hp.Choice(\"Model_type\", [\"RNN\", \"LSTM\", \"GRU\", \"FeedForward\"])\n",
    "        LNormMin = 0.00001\n",
    "        LNormMax = 10\n",
    "        sampling = \"log\"\n",
    "\n",
    "        if RNN_type == \"LSTM\":\n",
    "            model.add(tf.keras.layers.LSTM(\n",
    "                units=hp.Choice(\"units\", (2**np.arange(7)).tolist()),\n",
    "                # input_shape=(sample_length-1,),\n",
    "                dropout=hp.Float(\"general_dropout\", min_value=0, max_value=0.99),\n",
    "                kernel_regularizer=tf.keras.regularizers.L1L2(l1=hp.Float(\"L1\", min_value=LNormMin, max_value=LNormMax, sampling =sampling),\n",
    "                                                            l2=hp.Float(\"L2\", min_value=LNormMin, max_value=LNormMax, sampling =sampling)),\n",
    "                recurrent_regularizer=None,\n",
    "                return_sequences=False\n",
    "            ))\n",
    "\n",
    "        elif RNN_type == \"GRU\":\n",
    "            model.add(tf.keras.layers.GRU(\n",
    "                units=hp.Choice(\"units\", (2**np.arange(7)).tolist()),\n",
    "                dropout=hp.Float(\"general_dropout\", min_value=0, max_value=0.99),\n",
    "                kernel_regularizer=tf.keras.regularizers.L1L2(l1=hp.Float(\"L1\", min_value=LNormMin, max_value=LNormMax, sampling =sampling),\n",
    "                                                            l2=hp.Float(\"L2\", min_value=LNormMin, max_value=LNormMax, sampling =sampling)),\n",
    "                recurrent_regularizer=None,\n",
    "                return_sequences=False\n",
    "            ))\n",
    "\n",
    "        elif RNN_type == \"RNN\":\n",
    "            model.add(tf.keras.layers.SimpleRNN(\n",
    "                units=hp.Choice(\"units\", (2**np.arange(7)).tolist()),\n",
    "                dropout=hp.Float(\"general_dropout\", min_value=0, max_value=0.99),\n",
    "                kernel_regularizer=tf.keras.regularizers.L1L2(l1=hp.Float(\"L1\", min_value=LNormMin, max_value=LNormMax, sampling =sampling),\n",
    "                                                            l2=hp.Float(\"L2\", min_value=LNormMin, max_value=LNormMax, sampling =sampling)),\n",
    "                recurrent_regularizer=None,\n",
    "                return_sequences=False\n",
    "            ))\n",
    "\n",
    "        else:\n",
    "            model.add(Dense(\n",
    "                units=hp.Choice(\"units\", (2**np.arange(7)).tolist()),\n",
    "                kernel_regularizer=tf.keras.regularizers.L1L2(l1=hp.Float(\"L1\", min_value=LNormMin, max_value=LNormMax, sampling =sampling),\n",
    "                                                            l2=hp.Float(\"L2\", min_value=LNormMin, max_value=LNormMax, sampling =sampling))\n",
    "            ))\n",
    "            model.add(tf.keras.layers.Dropout(rate=hp.Float(\"general_dropout\", min_value=0, max_value=0.99)))\n",
    "\n",
    "\n",
    "        #model.add(tf.keras.layers.Dropout(rate=hp.Float(\"general_dropout\", min_value=0, max_value=0.99)))\n",
    "\n",
    "        #model.add(tf.keras.layers.LayerNormalization())\n",
    "        model.add(Dense(units=1))\n",
    "\n",
    "\n",
    "\n",
    "\n",
    "        #https://stackoverflow.com/questions/48714407/rnn-regularization-which-component-to-regularize\n",
    "        optimizerName = hp.Choice(\"optimizer\", [\"Adam\", \"RMSprop\"])\n",
    "        #learning_rate = hp.Float(\"learning_rate\", min_value=0.00001, max_value=1, sampling =\"log\")\n",
    "        learning_rate = 0.001\n",
    "        if optimizerName == \"Adam\":\n",
    "            #optimizer = tf.keras.optimizers.Adam(learning_rate=hp.Choice(\"learning_rate\", [0.01, 0.001, 0.0001]))\n",
    "            optimizer = tf.keras.optimizers.Adam(learning_rate=learning_rate)\n",
    "        else: \n",
    "            #optimizer = tf.keras.optimizers.RMSprop(learning_rate=hp.Choice(\"learning_rate\", [0.01, 0.001, 0.0001]))\n",
    "            optimizer = tf.keras.optimizers.RMSprop(learning_rate=learning_rate)\n",
    "        \n",
    "        model.compile(optimizer=optimizer,\n",
    "                      loss=\"mse\",\n",
    "                      metrics=[tf.keras.losses.MeanSquaredError(), tf.keras.losses.MeanAbsoluteError()])\n",
    "        return model\n",
    "\n",
    "    def fit(self, hp, model, *args, **kwargs):\n",
    "        \n",
    "        # lag_length = hp.Int(\"lags\", min_value=2, max_value=15, step=1)\n",
    "        # dataForFitting = PreprocessData(lag_length)\n",
    "        # xTrain=dataForFitting.xTrain\n",
    "        # yTrain=dataForFitting.yTrain\n",
    "        # xVal=dataForFitting.xVal\n",
    "        # yVal=dataForFitting.yVal\n",
    "        # xTest=dataForFitting.xTest\n",
    "        # yTest=dataForFitting.yTest        \n",
    "        \n",
    "        return model.fit(\n",
    "            x=xTrain, y=yTrain,\n",
    "            batch_size=hp.Choice(\"batch_size\", (2**np.arange(4, 10)).tolist()), \n",
    "            #batch_size=hp.Choice(\"batch_size\", [32, 64]),\n",
    "            epochs = 300,\n",
    "            validation_data=(xVal, yVal),\n",
    "            steps_per_epoch=500,\n",
    "            #steps_per_epoch=hp.Choice(\"batch_size\", (2**np.arange(4, 10)).tolist())\n",
    "            callbacks=[tf.keras.callbacks.EarlyStopping(monitor='val_mean_squared_error', patience=1)]\n",
    "        )\n",
    "\n",
    "\n",
    "\n",
    "from datetime import datetime\n",
    "now = datetime.now().strftime(\"%d-%m-%Y_%H%M\")\n",
    "seed=187\n",
    "trials:int = 10\n",
    "tuner = kt.RandomSearch(\n",
    "    MyHyperModel(),\n",
    "    objective=\"val_mean_squared_error\",\n",
    "    max_trials=trials,\n",
    "    overwrite=True,\n",
    "    seed=seed,\n",
    "    directory=\"Results//LSTM_KerasTuner_ResultsDir\",\n",
    "    project_name=f\"tune_hypermodel_{now}\"\n",
    ")\n",
    "\n",
    "\n",
    "#earlystopping_callback = tf.keras.callbacks.EarlyStopping(monitor='val_mean_absolute_error', patience=1, verbose=1, restore_best_weights=True)\n",
    "#tuner.search(callbacks=[earlystopping_callback])\n",
    "tuner.search()\n",
    "\n",
    "#bestModel = tuner.get_best_models(num_models=1)\n",
    "bestHPs = tuner.get_best_hyperparameters(num_trials=trials)\n",
    "bestHPs[0].values\n",
    "\n",
    "\n"
   ]
  },
  {
   "cell_type": "code",
   "execution_count": 24,
   "metadata": {},
   "outputs": [
    {
     "name": "stdout",
     "output_type": "stream",
     "text": [
      "Results summary\n",
      "Results in Results//LSTM_KerasTuner_ResultsDir\\tune_hypermodel_13-01-2023_0252\n",
      "Showing 1 best trials\n",
      "<keras_tuner.engine.objective.Objective object at 0x0000018121847A30>\n",
      "Trial summary\n",
      "Hyperparameters:\n",
      "Model_type: GRU\n",
      "units: 32\n",
      "general_dropout: 0.6163006673756249\n",
      "L1: 0.5959176005066202\n",
      "L2: 5.1559156967928116e-05\n",
      "optimizer: Adam\n",
      "batch_size: 512\n",
      "Score: 14951.525390625\n"
     ]
    }
   ],
   "source": [
    "tuner.results_summary(num_trials=1)\n"
   ]
  },
  {
   "cell_type": "code",
   "execution_count": 17,
   "metadata": {},
   "outputs": [
    {
     "name": "stdout",
     "output_type": "stream",
     "text": [
      "{'Model_type': 'GRU', 'units': 32, 'general_dropout': 0.6163006673756249, 'L1': 0.5959176005066202, 'L2': 5.1559156967928116e-05, 'optimizer': 'Adam', 'batch_size': 512} {'Model_type': 'GRU', 'units': 1, 'general_dropout': 0.8501681005628712, 'L1': 5.780328062829789, 'L2': 0.0006341240632756304, 'optimizer': 'RMSprop', 'batch_size': 512} {'Model_type': 'GRU', 'units': 16, 'general_dropout': 0.9367266446652331, 'L1': 5.687479636673409e-05, 'L2': 3.651309552104482, 'optimizer': 'RMSprop', 'batch_size': 128}\n"
     ]
    }
   ],
   "source": [
    "bestHPs = tuner.get_best_hyperparameters(num_trials=trials)\n",
    "print(bestHPs[0].values, bestHPs[1].values, bestHPs[2].values)\n",
    "\n",
    "results = pd.DataFrame([n.values for n in bestHPs])\n",
    "pd.DataFrame.to_csv(results, f\"Results//RandomSearchTunerMSE_{seed}_{now}.csv\", index=False)"
   ]
  },
  {
   "cell_type": "code",
   "execution_count": 21,
   "metadata": {},
   "outputs": [
    {
     "ename": "NotFoundError",
     "evalue": "Unsuccessful TensorSliceReader constructor: Failed to find any matching files for Results//LSTM_KerasTuner_ResultsDir\\tune_hypermodel_13-01-2023_0252\\trial_07\\checkpoint",
     "output_type": "error",
     "traceback": [
      "\u001b[1;31m---------------------------------------------------------------------------\u001b[0m",
      "\u001b[1;31mNotFoundError\u001b[0m                             Traceback (most recent call last)",
      "Cell \u001b[1;32mIn [21], line 1\u001b[0m\n\u001b[1;32m----> 1\u001b[0m bestModel \u001b[39m=\u001b[39m tuner\u001b[39m.\u001b[39;49mget_best_models(num_models\u001b[39m=\u001b[39;49m\u001b[39m1\u001b[39;49m)\n",
      "File \u001b[1;32mc:\\Users\\RobinForMLThesis\\AppData\\Local\\Programs\\Python\\Python310\\lib\\site-packages\\keras_tuner\\engine\\tuner.py:374\u001b[0m, in \u001b[0;36mTuner.get_best_models\u001b[1;34m(self, num_models)\u001b[0m\n\u001b[0;32m    356\u001b[0m \u001b[39m\"\"\"Returns the best model(s), as determined by the tuner's objective.\u001b[39;00m\n\u001b[0;32m    357\u001b[0m \n\u001b[0;32m    358\u001b[0m \u001b[39mThe models are loaded with the weights corresponding to\u001b[39;00m\n\u001b[1;32m   (...)\u001b[0m\n\u001b[0;32m    371\u001b[0m \u001b[39m    List of trained model instances sorted from the best to the worst.\u001b[39;00m\n\u001b[0;32m    372\u001b[0m \u001b[39m\"\"\"\u001b[39;00m\n\u001b[0;32m    373\u001b[0m \u001b[39m# Method only exists in this class for the docstring override.\u001b[39;00m\n\u001b[1;32m--> 374\u001b[0m \u001b[39mreturn\u001b[39;00m \u001b[39msuper\u001b[39;49m(Tuner, \u001b[39mself\u001b[39;49m)\u001b[39m.\u001b[39;49mget_best_models(num_models)\n",
      "File \u001b[1;32mc:\\Users\\RobinForMLThesis\\AppData\\Local\\Programs\\Python\\Python310\\lib\\site-packages\\keras_tuner\\engine\\base_tuner.py:296\u001b[0m, in \u001b[0;36mBaseTuner.get_best_models\u001b[1;34m(self, num_models)\u001b[0m\n\u001b[0;32m    281\u001b[0m \u001b[39m\"\"\"Returns the best model(s), as determined by the objective.\u001b[39;00m\n\u001b[0;32m    282\u001b[0m \n\u001b[0;32m    283\u001b[0m \u001b[39mThis method is for querying the models trained during the search.\u001b[39;00m\n\u001b[1;32m   (...)\u001b[0m\n\u001b[0;32m    293\u001b[0m \u001b[39m    List of trained models sorted from the best to the worst.\u001b[39;00m\n\u001b[0;32m    294\u001b[0m \u001b[39m\"\"\"\u001b[39;00m\n\u001b[0;32m    295\u001b[0m best_trials \u001b[39m=\u001b[39m \u001b[39mself\u001b[39m\u001b[39m.\u001b[39moracle\u001b[39m.\u001b[39mget_best_trials(num_models)\n\u001b[1;32m--> 296\u001b[0m models \u001b[39m=\u001b[39m [\u001b[39mself\u001b[39m\u001b[39m.\u001b[39mload_model(trial) \u001b[39mfor\u001b[39;00m trial \u001b[39min\u001b[39;00m best_trials]\n\u001b[0;32m    297\u001b[0m \u001b[39mreturn\u001b[39;00m models\n",
      "File \u001b[1;32mc:\\Users\\RobinForMLThesis\\AppData\\Local\\Programs\\Python\\Python310\\lib\\site-packages\\keras_tuner\\engine\\base_tuner.py:296\u001b[0m, in \u001b[0;36m<listcomp>\u001b[1;34m(.0)\u001b[0m\n\u001b[0;32m    281\u001b[0m \u001b[39m\"\"\"Returns the best model(s), as determined by the objective.\u001b[39;00m\n\u001b[0;32m    282\u001b[0m \n\u001b[0;32m    283\u001b[0m \u001b[39mThis method is for querying the models trained during the search.\u001b[39;00m\n\u001b[1;32m   (...)\u001b[0m\n\u001b[0;32m    293\u001b[0m \u001b[39m    List of trained models sorted from the best to the worst.\u001b[39;00m\n\u001b[0;32m    294\u001b[0m \u001b[39m\"\"\"\u001b[39;00m\n\u001b[0;32m    295\u001b[0m best_trials \u001b[39m=\u001b[39m \u001b[39mself\u001b[39m\u001b[39m.\u001b[39moracle\u001b[39m.\u001b[39mget_best_trials(num_models)\n\u001b[1;32m--> 296\u001b[0m models \u001b[39m=\u001b[39m [\u001b[39mself\u001b[39;49m\u001b[39m.\u001b[39;49mload_model(trial) \u001b[39mfor\u001b[39;00m trial \u001b[39min\u001b[39;00m best_trials]\n\u001b[0;32m    297\u001b[0m \u001b[39mreturn\u001b[39;00m models\n",
      "File \u001b[1;32mc:\\Users\\RobinForMLThesis\\AppData\\Local\\Programs\\Python\\Python310\\lib\\site-packages\\keras_tuner\\engine\\tuner.py:305\u001b[0m, in \u001b[0;36mTuner.load_model\u001b[1;34m(self, trial)\u001b[0m\n\u001b[0;32m    302\u001b[0m \u001b[39m# Reload best checkpoint.\u001b[39;00m\n\u001b[0;32m    303\u001b[0m \u001b[39m# Only load weights to avoid loading `custom_objects`.\u001b[39;00m\n\u001b[0;32m    304\u001b[0m \u001b[39mwith\u001b[39;00m maybe_distribute(\u001b[39mself\u001b[39m\u001b[39m.\u001b[39mdistribution_strategy):\n\u001b[1;32m--> 305\u001b[0m     model\u001b[39m.\u001b[39;49mload_weights(\u001b[39mself\u001b[39;49m\u001b[39m.\u001b[39;49m_get_checkpoint_fname(trial\u001b[39m.\u001b[39;49mtrial_id))\n\u001b[0;32m    306\u001b[0m \u001b[39mreturn\u001b[39;00m model\n",
      "File \u001b[1;32mc:\\Users\\RobinForMLThesis\\AppData\\Local\\Programs\\Python\\Python310\\lib\\site-packages\\keras\\utils\\traceback_utils.py:70\u001b[0m, in \u001b[0;36mfilter_traceback.<locals>.error_handler\u001b[1;34m(*args, **kwargs)\u001b[0m\n\u001b[0;32m     67\u001b[0m     filtered_tb \u001b[39m=\u001b[39m _process_traceback_frames(e\u001b[39m.\u001b[39m__traceback__)\n\u001b[0;32m     68\u001b[0m     \u001b[39m# To get the full stack trace, call:\u001b[39;00m\n\u001b[0;32m     69\u001b[0m     \u001b[39m# `tf.debugging.disable_traceback_filtering()`\u001b[39;00m\n\u001b[1;32m---> 70\u001b[0m     \u001b[39mraise\u001b[39;00m e\u001b[39m.\u001b[39mwith_traceback(filtered_tb) \u001b[39mfrom\u001b[39;00m \u001b[39mNone\u001b[39m\n\u001b[0;32m     71\u001b[0m \u001b[39mfinally\u001b[39;00m:\n\u001b[0;32m     72\u001b[0m     \u001b[39mdel\u001b[39;00m filtered_tb\n",
      "File \u001b[1;32mc:\\Users\\RobinForMLThesis\\AppData\\Local\\Programs\\Python\\Python310\\lib\\site-packages\\tensorflow\\python\\training\\py_checkpoint_reader.py:31\u001b[0m, in \u001b[0;36merror_translator\u001b[1;34m(e)\u001b[0m\n\u001b[0;32m     27\u001b[0m error_message \u001b[39m=\u001b[39m \u001b[39mstr\u001b[39m(e)\n\u001b[0;32m     28\u001b[0m \u001b[39mif\u001b[39;00m \u001b[39m'\u001b[39m\u001b[39mnot found in checkpoint\u001b[39m\u001b[39m'\u001b[39m \u001b[39min\u001b[39;00m error_message \u001b[39mor\u001b[39;00m (\n\u001b[0;32m     29\u001b[0m     \u001b[39m'\u001b[39m\u001b[39mFailed to find any \u001b[39m\u001b[39m'\u001b[39m\n\u001b[0;32m     30\u001b[0m     \u001b[39m'\u001b[39m\u001b[39mmatching files for\u001b[39m\u001b[39m'\u001b[39m) \u001b[39min\u001b[39;00m error_message:\n\u001b[1;32m---> 31\u001b[0m   \u001b[39mraise\u001b[39;00m errors_impl\u001b[39m.\u001b[39mNotFoundError(\u001b[39mNone\u001b[39;00m, \u001b[39mNone\u001b[39;00m, error_message)\n\u001b[0;32m     32\u001b[0m \u001b[39melif\u001b[39;00m \u001b[39m'\u001b[39m\u001b[39mSliced checkpoints are not supported\u001b[39m\u001b[39m'\u001b[39m \u001b[39min\u001b[39;00m error_message \u001b[39mor\u001b[39;00m (\n\u001b[0;32m     33\u001b[0m     \u001b[39m'\u001b[39m\u001b[39mData type \u001b[39m\u001b[39m'\u001b[39m\n\u001b[0;32m     34\u001b[0m     \u001b[39m'\u001b[39m\u001b[39mnot \u001b[39m\u001b[39m'\u001b[39m\n\u001b[0;32m     35\u001b[0m     \u001b[39m'\u001b[39m\u001b[39msupported\u001b[39m\u001b[39m'\u001b[39m) \u001b[39min\u001b[39;00m error_message:\n\u001b[0;32m     36\u001b[0m   \u001b[39mraise\u001b[39;00m errors_impl\u001b[39m.\u001b[39mUnimplementedError(\u001b[39mNone\u001b[39;00m, \u001b[39mNone\u001b[39;00m, error_message)\n",
      "\u001b[1;31mNotFoundError\u001b[0m: Unsuccessful TensorSliceReader constructor: Failed to find any matching files for Results//LSTM_KerasTuner_ResultsDir\\tune_hypermodel_13-01-2023_0252\\trial_07\\checkpoint"
     ]
    }
   ],
   "source": [
    "bestModel = tuner.get_best_models(num_models=1)\n"
   ]
  },
  {
   "cell_type": "code",
   "execution_count": 23,
   "metadata": {},
   "outputs": [],
   "source": [
    "model = tuner.hypermodel.build(bestHPs[0])\n",
    "model.get_config()\n",
    "model.compile(optimizer=tf.keras.optimizers.Adam(learning_rate=0.0001),\n",
    "              loss=\"MeanSquaredError\",\n",
    "              metrics=[tf.keras.losses.MeanSquaredError(), tf.keras.losses.MeanAbsoluteError()])\n"
   ]
  },
  {
   "cell_type": "code",
   "execution_count": 25,
   "metadata": {},
   "outputs": [
    {
     "name": "stdout",
     "output_type": "stream",
     "text": [
      "Epoch 1/300\n",
      "512/512 [==============================] - 33s 56ms/step - loss: 579.1841 - mean_squared_error: 573.4799 - mean_absolute_error: 13.8829 - val_loss: 15052.4014 - val_mean_squared_error: 14953.8496 - val_mean_absolute_error: 17.3352\n",
      "Epoch 2/300\n",
      "512/512 [==============================] - 29s 56ms/step - loss: 576.3951 - mean_squared_error: 572.8087 - mean_absolute_error: 13.9207 - val_loss: 15049.3721 - val_mean_squared_error: 14952.6250 - val_mean_absolute_error: 17.3452\n",
      "Epoch 3/300\n",
      "512/512 [==============================] - 29s 56ms/step - loss: 572.3671 - mean_squared_error: 570.3757 - mean_absolute_error: 13.9086 - val_loss: 15047.2764 - val_mean_squared_error: 14951.8047 - val_mean_absolute_error: 17.3530\n",
      "Epoch 4/300\n",
      "512/512 [==============================] - 29s 56ms/step - loss: 573.6564 - mean_squared_error: 573.4993 - mean_absolute_error: 13.9380 - val_loss: 15046.4678 - val_mean_squared_error: 14951.8711 - val_mean_absolute_error: 17.3532\n"
     ]
    },
    {
     "data": {
      "text/plain": [
       "<keras.callbacks.History at 0x18121d03490>"
      ]
     },
     "execution_count": 25,
     "metadata": {},
     "output_type": "execute_result"
    }
   ],
   "source": [
    "model.fit(\n",
    "    x=xTrain, y=yTrain,\n",
    "    batch_size=512,\n",
    "    epochs=300,\n",
    "    validation_data=(xVal, yVal),\n",
    "    steps_per_epoch=512,\n",
    "    callbacks=[tf.keras.callbacks.EarlyStopping(\n",
    "        monitor='val_mean_squared_error', patience=1)]\n",
    ")\n"
   ]
  },
  {
   "cell_type": "code",
   "execution_count": 28,
   "metadata": {},
   "outputs": [
    {
     "name": "stdout",
     "output_type": "stream",
     "text": [
      "1784/1784 [==============================] - 11s 6ms/step - loss: 1056.9622 - mean_squared_error: 1056.4471 - mean_absolute_error: 16.2225\n",
      "1784/1784 [==============================] - 12s 6ms/step\n"
     ]
    }
   ],
   "source": [
    "model.evaluate(x=xTest, y=yTest)\n",
    "\n",
    "modelPreds = model.predict(x=xTest)\n",
    "\n",
    "modelTestMAE = sum(abs(yTest - modelPreds))/len(yTest)\n",
    "modelTestMSE = sum((yTest-modelPreds)**2)/len(yTest)"
   ]
  },
  {
   "cell_type": "code",
   "execution_count": 34,
   "metadata": {},
   "outputs": [
    {
     "name": "stdout",
     "output_type": "stream",
     "text": [
      "[16.21960982] [1056.52757059]\n"
     ]
    }
   ],
   "source": [
    "# modelValMAE = sum(abs(yVal - modelValPreds))/len(yVal)\n",
    "# modelValMSE = sum((yVal-modelValPreds)**2)/len(yVal)\n",
    "\n",
    "modelTestMAE = sum(abs(yTest - modelPreds))/len(yTest)\n",
    "modelTestMSE = sum((yTest-modelPreds)**2)/len(yTest)\n",
    "print(modelTestMAE, modelTestMSE)"
   ]
  },
  {
   "cell_type": "code",
   "execution_count": 36,
   "metadata": {},
   "outputs": [
    {
     "data": {
      "text/plain": [
       "(array([0.00651741]), array([-0.00022424]), array([0.00431798]))"
      ]
     },
     "execution_count": 36,
     "metadata": {},
     "output_type": "execute_result"
    }
   ],
   "source": [
    "zeroValMAE = sum(abs(yVal))/len(yVal)\n",
    "zeroValMSE = sum(yVal**2)/len(yVal)\n",
    "\n",
    "zeroTestMAE = sum(abs(yTest))/len(yTest)\n",
    "zeroTestMSE = sum(yTest**2)/len(yTest)\n",
    "\n",
    "\n",
    "\n",
    "#1 - modelValMAE/zeroTestMAE, 1 - modelValMSE/zeroTestMSE\n",
    "1 - 14951.525390625/zeroValMSE, 1 - modelTestMAE/zeroTestMAE, 1 - modelTestMSE/zeroTestMSE"
   ]
  },
  {
   "cell_type": "code",
   "execution_count": 37,
   "metadata": {},
   "outputs": [
    {
     "name": "stdout",
     "output_type": "stream",
     "text": [
      "Epoch 1/300\n",
      "46/46 [==============================] - 3s 70ms/step - loss: 28732.2285 - mean_squared_error: 28468.6738 - mean_absolute_error: 16.3503 - val_loss: 1358.7174 - val_mean_squared_error: 1365.6440 - val_mean_absolute_error: 18.1084\n",
      "Epoch 2/300\n",
      "46/46 [==============================] - 3s 65ms/step - loss: 28729.9512 - mean_squared_error: 28465.8457 - mean_absolute_error: 16.3795 - val_loss: 1354.9111 - val_mean_squared_error: 1361.7949 - val_mean_absolute_error: 18.1486\n",
      "Epoch 3/300\n",
      "46/46 [==============================] - 3s 72ms/step - loss: 28725.0664 - mean_squared_error: 28461.8828 - mean_absolute_error: 16.5115 - val_loss: 1347.0519 - val_mean_squared_error: 1353.7694 - val_mean_absolute_error: 18.3126\n",
      "Epoch 4/300\n",
      "46/46 [==============================] - 3s 66ms/step - loss: 28722.6523 - mean_squared_error: 28460.4434 - mean_absolute_error: 16.7203 - val_loss: 1344.4725 - val_mean_squared_error: 1351.1207 - val_mean_absolute_error: 18.4279\n",
      "Epoch 5/300\n",
      "46/46 [==============================] - 3s 74ms/step - loss: 28722.1699 - mean_squared_error: 28461.6797 - mean_absolute_error: 16.8240 - val_loss: 1343.9257 - val_mean_squared_error: 1350.5540 - val_mean_absolute_error: 18.4647\n",
      "Epoch 6/300\n",
      "46/46 [==============================] - 4s 80ms/step - loss: 28721.9707 - mean_squared_error: 28467.8379 - mean_absolute_error: 16.9124 - val_loss: 1343.7194 - val_mean_squared_error: 1350.3657 - val_mean_absolute_error: 18.4776\n",
      "Epoch 7/300\n",
      "46/46 [==============================] - 3s 74ms/step - loss: 28721.8926 - mean_squared_error: 28460.8613 - mean_absolute_error: 16.9068 - val_loss: 1343.5648 - val_mean_squared_error: 1350.2079 - val_mean_absolute_error: 18.4899\n",
      "Epoch 8/300\n",
      "46/46 [==============================] - 4s 90ms/step - loss: 28721.9941 - mean_squared_error: 28497.9863 - mean_absolute_error: 16.9197 - val_loss: 1343.9023 - val_mean_squared_error: 1350.5563 - val_mean_absolute_error: 18.4643\n"
     ]
    },
    {
     "data": {
      "text/plain": [
       "<keras.callbacks.History at 0x18128810fd0>"
      ]
     },
     "execution_count": 37,
     "metadata": {},
     "output_type": "execute_result"
    }
   ],
   "source": [
    "model.fit(\n",
    "    x=xVal, y=yVal,\n",
    "    batch_size=512,\n",
    "    epochs=300,\n",
    "    validation_split=0.5,\n",
    "    callbacks=[tf.keras.callbacks.EarlyStopping(\n",
    "        monitor='val_mean_squared_error', patience=1)]\n",
    ")"
   ]
  },
  {
   "cell_type": "code",
   "execution_count": 39,
   "metadata": {},
   "outputs": [
    {
     "name": "stdout",
     "output_type": "stream",
     "text": [
      "1784/1784 [==============================] - 10s 5ms/step - loss: 1037.3690 - mean_squared_error: 1036.9235 - mean_absolute_error: 16.5368\n",
      "1784/1784 [==============================] - 9s 5ms/step\n"
     ]
    },
    {
     "data": {
      "text/plain": [
       "(array([-0.01963968]), array([0.02269248]))"
      ]
     },
     "execution_count": 39,
     "metadata": {},
     "output_type": "execute_result"
    }
   ],
   "source": [
    "model.evaluate(x=xTest, y=yTest)\n",
    "modelPreds2 = model.predict(x=xTest)\n",
    "\n",
    "modelTest2MAE = sum(abs(yTest - modelPreds2))/len(yTest)\n",
    "modelTest2MSE = sum((yTest-modelPreds2)**2)/len(yTest)\n",
    "\n",
    "1 - modelTest2MAE/zeroTestMAE, 1 - modelTest2MSE/zeroTestMSE"
   ]
  },
  {
   "cell_type": "code",
   "execution_count": 67,
   "metadata": {},
   "outputs": [
    {
     "data": {
      "image/png": "[encoded data removed]",
      "text/plain": [
       "<Figure size 640x480 with 1 Axes>"
      ]
     },
     "metadata": {},
     "output_type": "display_data"
    },
    {
     "data": {
      "text/plain": [
       "(PearsonRResult(statistic=0.02234574661981307, pvalue=9.368538505269972e-08),\n",
       " SpearmanrResult(correlation=0.05561992902724831, pvalue=2.4208289437682335e-40),\n",
       " SpearmanrResult(correlation=0.9999999999999998, pvalue=0.0),\n",
       " SpearmanrResult(correlation=0.004242069634406555, pvalue=0.3108978339936893))"
      ]
     },
     "execution_count": 67,
     "metadata": {},
     "output_type": "execute_result"
    }
   ],
   "source": [
    "import matplotlib.pyplot as plt\n",
    "from matplotlib.scale import SymmetricalLogScale\n",
    "\n",
    "\n",
    "#plt.scatter(modelPreds2, yTest)\n",
    "#plt.scatter(modelPreds2[yTest<3000], yTest[yTest<3000])\n",
    "plt.scatter(modelPreds2[yTest<100], yTest[yTest<100])\n",
    "#plt.xscale(\"log\")\n",
    "#plt.yscale(\"log\")\n",
    "#plt.yscale(SymmetricalLogScale())\n",
    "plt.show()\n",
    "\n",
    "from scipy.stats import pearsonr, spearmanr, randint\n",
    "pearsonr(modelPreds2.squeeze(), yTest.squeeze()), spearmanr(modelPreds2.squeeze(), yTest.squeeze()), spearmanr(yTest.squeeze(), yTest.squeeze()), spearmanr(randint.rvs(0, 1000, size=len(yTest)), randint.rvs(0, 1000, size=len(yTest)))"
   ]
  },
  {
   "cell_type": "code",
   "execution_count": 3,
   "metadata": {},
   "outputs": [],
   "source": [
    "#This cell breaks the computer\n",
    "# zeroForecastMAE = tf.keras.losses.MeanAbsoluteError().call(y_true=yVal,\n",
    "#                                                    y_pred=np.zeros(len(yVal)))\n",
    "\n",
    "# zeroForecastMSE = tf.keras.losses.MeanSquaredError().call(y_true=yVal,\n",
    "#                                                   y_pred=np.zeros(len(yVal)))\n",
    "\n",
    "#print(ZeroMAE, ZeroMSE)"
   ]
  }
 ],
 "metadata": {
  "kernelspec": {
   "display_name": "Python 3",
   "language": "python",
   "name": "python3"
  },
  "language_info": {
   "codemirror_mode": {
    "name": "ipython",
    "version": 3
   },
   "file_extension": ".py",
   "mimetype": "text/x-python",
   "name": "python",
   "nbconvert_exporter": "python",
   "pygments_lexer": "ipython3",
   "version": "3.10.8"
  },
  "orig_nbformat": 4,
  "vscode": {
   "interpreter": {
    "hash": "6646144ec7618d86cefdfa307b5e5ba5f5893ee78adb19daf28ba13bcfecfb8b"
   }
  }
 },
 "nbformat": 4,
 "nbformat_minor": 2
}
